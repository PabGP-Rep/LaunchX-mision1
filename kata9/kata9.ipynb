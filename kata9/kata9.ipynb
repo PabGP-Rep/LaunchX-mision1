{
 "cells": [
  {
   "cell_type": "markdown",
   "metadata": {},
   "source": [
    "### Ejercicio 1: Trabajar con argumentos en funciones"
   ]
  },
  {
   "cell_type": "code",
   "execution_count": 9,
   "metadata": {},
   "outputs": [],
   "source": [
    "# Función para leer 3 tanques de combustible y muestre el promedio\n",
    "def informeCombustible(tanque1, tanque2, tanque3):\n",
    "  promedio = (tanque1+tanque2+tanque3)/3\n",
    "  return f\"\"\"\n",
    "  tanque1:{tanque1}\n",
    "  tanque2:{tanque2}\n",
    "  tanque3:{tanque3}\n",
    "  promedio:{promedio} \n",
    "  \"\"\""
   ]
  },
  {
   "cell_type": "code",
   "execution_count": 12,
   "metadata": {},
   "outputs": [
    {
     "name": "stdout",
     "output_type": "stream",
     "text": [
      "\n",
      "  tanque1:10\n",
      "  tanque2:10\n",
      "  tanque3:10\n",
      "  promedio:10.0 \n",
      "  \n"
     ]
    }
   ],
   "source": [
    "# Llamamos a la función que genera el reporte print(funcion(tanque1, tanque2, tanque3))\n",
    "print(informeCombustible(10,10,10))"
   ]
  },
  {
   "cell_type": "code",
   "execution_count": 4,
   "metadata": {},
   "outputs": [],
   "source": [
    "# Función promedio \n",
    "def promedio(num1, num2, num3):\n",
    "  resultado = (num1+num2+num3)/3\n",
    "  return resultado"
   ]
  },
  {
   "cell_type": "code",
   "execution_count": 13,
   "metadata": {},
   "outputs": [
    {
     "name": "stdout",
     "output_type": "stream",
     "text": [
      "\n",
      "  tanque1:10\n",
      "  tanque2:100\n",
      "  tanque3:10\n",
      "  promedio:40.0 \n",
      "  \n"
     ]
    }
   ],
   "source": [
    "# Actualiza la función\n",
    "def informeCombustible(tanque1, tanque2, tanque3):\n",
    "  resultado = promedio(tanque1,tanque2,tanque3)\n",
    "  return f\"\"\"\n",
    "  tanque1:{tanque1}\n",
    "  tanque2:{tanque2}\n",
    "  tanque3:{tanque3}\n",
    "  promedio:{resultado} \n",
    "  \"\"\"\n",
    "\n",
    "print(informeCombustible(10,100,10))"
   ]
  },
  {
   "cell_type": "markdown",
   "metadata": {},
   "source": [
    "### Ejercicio 2: Trabajo con argumentos de palabra clave"
   ]
  },
  {
   "cell_type": "code",
   "execution_count": 14,
   "metadata": {},
   "outputs": [],
   "source": [
    "# Función con un informe preciso de la misión. Considera hora de prelanzamiento, \n",
    "# tiempo de vuelo, destino, tanque externo y tanque interno\n",
    "def informe(prelanzamiento, tiempoVuelo, destino, tanqueEx, tanqueIn):\n",
    "  return f\"\"\"\n",
    "  hora de prelanzamiento:{prelanzamiento}\n",
    "  tiempo de vuelo:{tiempoVuelo}\n",
    "  destino:{destino}\n",
    "  tanque externo:{tanqueEx} \n",
    "  tanque interno:{tanqueIn}\n",
    "  \"\"\""
   ]
  },
  {
   "cell_type": "code",
   "execution_count": 22,
   "metadata": {},
   "outputs": [],
   "source": [
    "# Escribe tu nueva función de reporte considerando lo anterior\n",
    "def informe(destino, *minutos, **tanques):\n",
    "  return f\"\"\"  \n",
    "  destino:{destino}\n",
    "  minutos:{sum(minutos)} \n",
    "  combustible:{sum(tanques.values())}\n",
    "  \"\"\""
   ]
  },
  {
   "cell_type": "code",
   "execution_count": 21,
   "metadata": {},
   "outputs": [],
   "source": [
    "# Escribe tu nueva función\n",
    "# Escribe tu nueva función de reporte considerando lo anterior\n",
    "def informe(destino, *minutos, **tanques):\n",
    "  reporte = f\"\"\"  \n",
    "  destino:{destino}\n",
    "  minutos:{sum(minutos)}  \n",
    "  combustible:{sum(tanques.values())}\n",
    "  \"\"\"\n",
    "  for tanque,combustible in tanques.items():\n",
    "    reporte += f\"{tanque},  combustible: {combustible}\\n\"\n",
    "  return reporte"
   ]
  }
 ],
 "metadata": {
  "interpreter": {
   "hash": "a3fb7fdc0875d9cf2b160a90b735d5d31ecc568d6575d96b7b4d6c59c94f27a4"
  },
  "kernelspec": {
   "display_name": "Python 3.6.2 64-bit",
   "language": "python",
   "name": "python3"
  },
  "language_info": {
   "codemirror_mode": {
    "name": "ipython",
    "version": 3
   },
   "file_extension": ".py",
   "mimetype": "text/x-python",
   "name": "python",
   "nbconvert_exporter": "python",
   "pygments_lexer": "ipython3",
   "version": "3.6.2"
  },
  "orig_nbformat": 4
 },
 "nbformat": 4,
 "nbformat_minor": 2
}
